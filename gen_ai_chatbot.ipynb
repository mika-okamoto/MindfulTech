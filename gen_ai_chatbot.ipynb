{
 "cells": [
  {
   "cell_type": "code",
   "execution_count": null,
   "metadata": {},
   "outputs": [],
   "source": [
    "from langchain.chains import LLMChain\n",
    "from langchain.prompts import PromptTemplate, ChatPromptTemplate\n",
    "from langchain_openai import OpenAI, ChatOpenAI\n",
    "import wikipedia\n",
    "from langchain.text_splitter import CharacterTextSplitter\n",
    "from langchain.vectorstores import FAISS\n",
    "from langchain_community.embeddings.openai import OpenAIEmbeddings\n",
    "from langchain.memory import ConversationBufferMemory"
   ]
  },
  {
   "cell_type": "code",
   "execution_count": null,
   "metadata": {},
   "outputs": [],
   "source": [
    "api_key = open('api_key.txt').read()\n",
    "llm = OpenAI(api_key = api_key)\n",
    "\n",
    "template = \"\"\"\"You are a helpful and compassionate chatbot explaining about mental health disorders to employees in the tech industry at potential risk.\n",
    "They answered questions on a survey, and have been found to be at risk for {disorder}. \n",
    "\n",
    "Context: {disorder_context}\n",
    "\n",
    "(if the context is irrelevant, ignore it and answer to the best of your abilities)\n",
    "\n",
    "Information about the person: \n",
    "{survey}\n",
    "\n",
    "Their Past Prompts: {past_qs}\n",
    "\n",
    "Their Question: {question}\n",
    "\n",
    "Answer: \"\"\"\n",
    "\n",
    "prompt = PromptTemplate.from_template(template)"
   ]
  },
  {
   "cell_type": "code",
   "execution_count": null,
   "metadata": {},
   "outputs": [],
   "source": [
    "disorder_context = {}\n",
    "\n",
    "for disorder in ['Anxiety Disorder', 'Mood Disorder']:\n",
    "    text = \"\"\n",
    "    pages = wikipedia.search(disorder)\n",
    "    for p in pages:\n",
    "        try: text += wikipedia.page(p).content + '\\n\\n'\n",
    "        except: continue\n",
    "        \n",
    "    disorder_context[disorder] = text"
   ]
  },
  {
   "cell_type": "code",
   "execution_count": null,
   "metadata": {},
   "outputs": [],
   "source": [
    "text_splitter = CharacterTextSplitter(chunk_size=350, \n",
    "                                      chunk_overlap=0, separator = '.')\n",
    "chunked_texts = text_splitter.split_text(disorder_context['Anxiety Disorder'])\n",
    "\n",
    "db = FAISS.from_texts(chunked_texts, OpenAIEmbeddings(api_key = api_key))\n",
    "db.save_local('anxiety')"
   ]
  },
  {
   "cell_type": "code",
   "execution_count": null,
   "metadata": {},
   "outputs": [],
   "source": [
    "# test query\n",
    "db.similarity_search(\"I have paranoia\", k = 2)"
   ]
  },
  {
   "cell_type": "code",
   "execution_count": null,
   "metadata": {},
   "outputs": [],
   "source": [
    "llm_chain = LLMChain(prompt=prompt, llm=llm)\n",
    "question = input(\">> \")\n",
    "past_questions = []\n",
    "\n",
    "while 'quit' not in question:\n",
    "\n",
    "    disorder = \"anxiety\"\n",
    "    db = FAISS.load_local(f'faiss_databases/{disorder}', OpenAIEmbeddings(api_key = api_key))\n",
    "\n",
    "    context = \"\"\n",
    "    for t in db.similarity_search(question):\n",
    "        context += t.page_content + \"\\n\"\n",
    "\n",
    "    memory_content = \"\"\n",
    "    for i in past_questions:\n",
    "        memory_content += i + \"\\n\"\n",
    "\n",
    "    ans = llm_chain.invoke({'disorder': disorder, 'disorder_context': context, 'survey': \"\", 'question': question, 'past_qs': memory_content})['text']\n",
    "    print(ans)\n",
    "\n",
    "    past_questions.append(question)\n",
    "    if (len(past_questions) > 5): past_questions.pop(0)\n",
    "\n",
    "    question = input(\">> \")"
   ]
  }
 ],
 "metadata": {
  "kernelspec": {
   "display_name": "Python 3",
   "language": "python",
   "name": "python3"
  },
  "language_info": {
   "codemirror_mode": {
    "name": "ipython",
    "version": 3
   },
   "file_extension": ".py",
   "mimetype": "text/x-python",
   "name": "python",
   "nbconvert_exporter": "python",
   "pygments_lexer": "ipython3",
   "version": "3.9.13"
  }
 },
 "nbformat": 4,
 "nbformat_minor": 2
}
