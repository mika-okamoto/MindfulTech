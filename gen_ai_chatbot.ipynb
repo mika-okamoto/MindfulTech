{
 "cells": [
  {
   "cell_type": "code",
   "execution_count": 32,
   "metadata": {},
   "outputs": [],
   "source": [
    "from langchain.chains import LLMChain\n",
    "from langchain.prompts import PromptTemplate\n",
    "from langchain_openai import OpenAI\n",
    "import wikipedia\n",
    "from langchain.text_splitter import CharacterTextSplitter\n",
    "from langchain.vectorstores import FAISS\n",
    "from langchain_community.embeddings.openai import OpenAIEmbeddings"
   ]
  },
  {
   "cell_type": "code",
   "execution_count": 31,
   "metadata": {},
   "outputs": [],
   "source": [
    "api_key = open('api_key.txt').read()\n",
    "llm = OpenAI(api_key = api_key)\n",
    "\n",
    "template = \"\"\"\"You are a helpful and compassionate chatbot explaining about mental health disorders to employees in the tech industry at potential risk.\n",
    "They answered questions on a survey, and have been found to be at risk for {disorder}. \n",
    "\n",
    "Context: {disorder_context}\n",
    "\n",
    "(if the context is irrelevant, ignore it and answer to the best of your abilities)\n",
    "\n",
    "Information about the person: \n",
    "{survey}\n",
    "\n",
    "Their Question: {question}\n",
    "\n",
    "Answer: \"\"\"\n",
    "\n",
    "prompt = PromptTemplate.from_template(template)"
   ]
  },
  {
   "cell_type": "code",
   "execution_count": 39,
   "metadata": {},
   "outputs": [],
   "source": [
    "disorder_context = {}\n",
    "\n",
    "for disorder in ['Anxiety Disorder', 'Mood Disorder']:\n",
    "    text = \"\"\n",
    "    pages = wikipedia.search(disorder)\n",
    "    for p in pages:\n",
    "        try: text += wikipedia.page(p).content + '\\n\\n'\n",
    "        except: continue\n",
    "        \n",
    "    disorder_context[disorder] = text"
   ]
  },
  {
   "cell_type": "code",
   "execution_count": 45,
   "metadata": {},
   "outputs": [
    {
     "name": "stderr",
     "output_type": "stream",
     "text": [
      "Created a chunk of size 489, which is longer than the specified 350\n",
      "Created a chunk of size 446, which is longer than the specified 350\n",
      "Created a chunk of size 368, which is longer than the specified 350\n",
      "Created a chunk of size 417, which is longer than the specified 350\n",
      "Created a chunk of size 392, which is longer than the specified 350\n",
      "Created a chunk of size 1457, which is longer than the specified 350\n",
      "Created a chunk of size 398, which is longer than the specified 350\n",
      "Created a chunk of size 689, which is longer than the specified 350\n",
      "Created a chunk of size 479, which is longer than the specified 350\n",
      "Created a chunk of size 360, which is longer than the specified 350\n",
      "Created a chunk of size 451, which is longer than the specified 350\n",
      "Created a chunk of size 446, which is longer than the specified 350\n",
      "Created a chunk of size 419, which is longer than the specified 350\n",
      "Created a chunk of size 591, which is longer than the specified 350\n",
      "Created a chunk of size 362, which is longer than the specified 350\n",
      "Created a chunk of size 413, which is longer than the specified 350\n",
      "Created a chunk of size 410, which is longer than the specified 350\n",
      "Created a chunk of size 435, which is longer than the specified 350\n",
      "Created a chunk of size 365, which is longer than the specified 350\n",
      "Created a chunk of size 631, which is longer than the specified 350\n",
      "Created a chunk of size 521, which is longer than the specified 350\n",
      "Created a chunk of size 483, which is longer than the specified 350\n",
      "Created a chunk of size 373, which is longer than the specified 350\n",
      "Created a chunk of size 402, which is longer than the specified 350\n",
      "Created a chunk of size 376, which is longer than the specified 350\n",
      "Created a chunk of size 382, which is longer than the specified 350\n",
      "Created a chunk of size 1134, which is longer than the specified 350\n",
      "Created a chunk of size 376, which is longer than the specified 350\n",
      "Created a chunk of size 591, which is longer than the specified 350\n",
      "Created a chunk of size 907, which is longer than the specified 350\n"
     ]
    }
   ],
   "source": [
    "text_splitter = CharacterTextSplitter(chunk_size=350, \n",
    "                                      chunk_overlap=0, separator = '.')\n",
    "chunked_texts = text_splitter.split_text(disorder_context['Anxiety Disorder'])\n",
    "\n",
    "db = FAISS.from_texts(chunked_texts, OpenAIEmbeddings(api_key = api_key))\n",
    "db.save_local('anxiety')"
   ]
  },
  {
   "cell_type": "code",
   "execution_count": 46,
   "metadata": {},
   "outputs": [
    {
     "data": {
      "text/plain": [
       "[Document(page_content='These situations can result in an increase in anxiety or a panic attack or feeling the need to separate themselves from family or friends.People with agoraphobia sometimes fear waiting outside for long periods of time; that symptom can be called \"macrophobia\"'),\n",
       " Document(page_content='People with specific phobias understand that their fear is not proportional to the actual potential danger, but they can still become overwhelmed by it.\\n\\n\\n=== Panic disorder ===\\n\\nWith panic disorder, a person has brief attacks of intense terror and apprehension, often marked by trembling, shaking, confusion, dizziness, or difficulty breathing')]"
      ]
     },
     "execution_count": 46,
     "metadata": {},
     "output_type": "execute_result"
    }
   ],
   "source": [
    "# test query\n",
    "db.similarity_search(\"I have paranoia\", k = 2)"
   ]
  },
  {
   "cell_type": "code",
   "execution_count": 47,
   "metadata": {},
   "outputs": [
    {
     "name": "stdout",
     "output_type": "stream",
     "text": [
      "There are several things you can do to help manage your anxiety. One option is to join a self-help or support group, where you can share your experiences with others and learn helpful tools and coping strategies. You can also consider therapy or medication, which can be determined by discussing your specific circumstances and symptoms with a doctor. If one medication does not seem to be effective, there are other options that may be offered to you. It is important to find a treatment plan that works best for you and to continue to communicate with your doctor about your progress. Additionally, practicing self-care and healthy coping mechanisms, such as exercise and mindfulness, can also be beneficial in managing anxiety. Remember to be patient with yourself and seek support from loved ones during this process.\n"
     ]
    }
   ],
   "source": [
    "llm_chain = LLMChain(prompt=prompt, llm=llm)\n",
    "question = \"What can I do?\"\n",
    "\n",
    "disorder = \"anxiety\"\n",
    "db = FAISS.load_local(f'faiss_databases/{disorder}', OpenAIEmbeddings(api_key = api_key))\n",
    "\n",
    "context = \"\"\n",
    "for t in db.similarity_search(question):\n",
    "    context += t.page_content + \"\\n\"\n",
    "\n",
    "ans = llm_chain.invoke({'disorder': disorder, 'disorder_context': context, 'survey': \"\", 'question': question})['text']\n",
    "print(ans)"
   ]
  }
 ],
 "metadata": {
  "kernelspec": {
   "display_name": "Python 3",
   "language": "python",
   "name": "python3"
  },
  "language_info": {
   "codemirror_mode": {
    "name": "ipython",
    "version": 3
   },
   "file_extension": ".py",
   "mimetype": "text/x-python",
   "name": "python",
   "nbconvert_exporter": "python",
   "pygments_lexer": "ipython3",
   "version": "3.9.13"
  }
 },
 "nbformat": 4,
 "nbformat_minor": 2
}
