{
 "cells": [
  {
   "cell_type": "code",
   "execution_count": 1,
   "metadata": {},
   "outputs": [],
   "source": [
    "from langchain.chains import LLMChain\n",
    "from langchain.prompts import PromptTemplate, ChatPromptTemplate\n",
    "from langchain_openai import OpenAI, ChatOpenAI\n",
    "import wikipedia\n",
    "from langchain.text_splitter import CharacterTextSplitter\n",
    "from langchain.vectorstores import FAISS\n",
    "from langchain_community.embeddings.openai import OpenAIEmbeddings\n",
    "from langchain.memory import ConversationBufferMemory"
   ]
  },
  {
   "cell_type": "code",
   "execution_count": 23,
   "metadata": {},
   "outputs": [],
   "source": [
    "api_key = open('api_key.txt').read()\n",
    "llm = OpenAI(api_key = api_key)\n",
    "\n",
    "template = \"\"\"\"You are a helpful and compassionate chatbot explaining about mental health disorders to employees in the tech industry at potential risk.\n",
    "They answered questions on a survey, and have been found to be at risk for {disorder}. \n",
    "\n",
    "Context: {disorder_context}\n",
    "\n",
    "(if the context is irrelevant, ignore it and answer to the best of your abilities)\n",
    "\n",
    "Information about the person: \n",
    "{survey}\n",
    "\n",
    "Their Past Prompts: {past_qs}\n",
    "\n",
    "Their Question: {question}\n",
    "\n",
    "Answer: \"\"\"\n",
    "\n",
    "prompt = PromptTemplate.from_template(template)"
   ]
  },
  {
   "cell_type": "code",
   "execution_count": null,
   "metadata": {},
   "outputs": [],
   "source": [
    "disorder_context = {}\n",
    "\n",
    "for disorder in ['Anxiety Disorder', 'Mood Disorder']:\n",
    "    text = \"\"\n",
    "    pages = wikipedia.search(disorder)\n",
    "    for p in pages:\n",
    "        try: text += wikipedia.page(p).content + '\\n\\n'\n",
    "        except: continue\n",
    "        \n",
    "    disorder_context[disorder] = text"
   ]
  },
  {
   "cell_type": "code",
   "execution_count": null,
   "metadata": {},
   "outputs": [
    {
     "name": "stderr",
     "output_type": "stream",
     "text": [
      "Created a chunk of size 489, which is longer than the specified 350\n",
      "Created a chunk of size 446, which is longer than the specified 350\n",
      "Created a chunk of size 368, which is longer than the specified 350\n",
      "Created a chunk of size 417, which is longer than the specified 350\n",
      "Created a chunk of size 392, which is longer than the specified 350\n",
      "Created a chunk of size 1457, which is longer than the specified 350\n",
      "Created a chunk of size 398, which is longer than the specified 350\n",
      "Created a chunk of size 689, which is longer than the specified 350\n",
      "Created a chunk of size 479, which is longer than the specified 350\n",
      "Created a chunk of size 360, which is longer than the specified 350\n",
      "Created a chunk of size 451, which is longer than the specified 350\n",
      "Created a chunk of size 446, which is longer than the specified 350\n",
      "Created a chunk of size 419, which is longer than the specified 350\n",
      "Created a chunk of size 591, which is longer than the specified 350\n",
      "Created a chunk of size 362, which is longer than the specified 350\n",
      "Created a chunk of size 413, which is longer than the specified 350\n",
      "Created a chunk of size 410, which is longer than the specified 350\n",
      "Created a chunk of size 435, which is longer than the specified 350\n",
      "Created a chunk of size 365, which is longer than the specified 350\n",
      "Created a chunk of size 631, which is longer than the specified 350\n",
      "Created a chunk of size 521, which is longer than the specified 350\n",
      "Created a chunk of size 483, which is longer than the specified 350\n",
      "Created a chunk of size 373, which is longer than the specified 350\n",
      "Created a chunk of size 402, which is longer than the specified 350\n",
      "Created a chunk of size 376, which is longer than the specified 350\n",
      "Created a chunk of size 382, which is longer than the specified 350\n",
      "Created a chunk of size 1134, which is longer than the specified 350\n",
      "Created a chunk of size 376, which is longer than the specified 350\n",
      "Created a chunk of size 591, which is longer than the specified 350\n",
      "Created a chunk of size 907, which is longer than the specified 350\n"
     ]
    }
   ],
   "source": [
    "text_splitter = CharacterTextSplitter(chunk_size=350, \n",
    "                                      chunk_overlap=0, separator = '.')\n",
    "chunked_texts = text_splitter.split_text(disorder_context['Anxiety Disorder'])\n",
    "\n",
    "db = FAISS.from_texts(chunked_texts, OpenAIEmbeddings(api_key = api_key))\n",
    "db.save_local('anxiety')"
   ]
  },
  {
   "cell_type": "code",
   "execution_count": null,
   "metadata": {},
   "outputs": [
    {
     "data": {
      "text/plain": [
       "[Document(page_content='These situations can result in an increase in anxiety or a panic attack or feeling the need to separate themselves from family or friends.People with agoraphobia sometimes fear waiting outside for long periods of time; that symptom can be called \"macrophobia\"'),\n",
       " Document(page_content='People with specific phobias understand that their fear is not proportional to the actual potential danger, but they can still become overwhelmed by it.\\n\\n\\n=== Panic disorder ===\\n\\nWith panic disorder, a person has brief attacks of intense terror and apprehension, often marked by trembling, shaking, confusion, dizziness, or difficulty breathing')]"
      ]
     },
     "execution_count": 46,
     "metadata": {},
     "output_type": "execute_result"
    }
   ],
   "source": [
    "# test query\n",
    "db.similarity_search(\"I have paranoia\", k = 2)"
   ]
  },
  {
   "cell_type": "code",
   "execution_count": 20,
   "metadata": {},
   "outputs": [],
   "source": []
  },
  {
   "cell_type": "code",
   "execution_count": 24,
   "metadata": {},
   "outputs": [
    {
     "name": "stdout",
     "output_type": "stream",
     "text": [
      "\n",
      "As a chatbot, I am not able to provide medical advice or treatment plans. However, I can suggest seeking help from a mental health professional, such as a therapist or psychiatrist. They can evaluate your specific symptoms and circumstances and work with you to determine the best course of treatment, whether it be therapy, medication, or a combination of both. It's important to communicate openly and honestly with your doctor and to not give up if the first treatment option doesn't work. Remember, seeking help is a brave and important step towards managing your anxiety.\n",
      "What do I do?\n",
      "You just asked, \"What do I do?\"\n",
      "What do I do?What did I just ask?\n",
      "\n",
      "There are several ways to deal with anxiety, especially if you are at risk for anxiety disorders. One helpful strategy is to practice stress management techniques, such as meditation and visualization. These practices can help calm your mind and enhance the effects of therapy. Another helpful strategy is to engage in service to others, as this can distract from self-absorption and improve overall well-being. Additionally, joining a self-help or support group can provide a sense of community and support, particularly for those who may be housebound. It can also be beneficial to educate yourself on the physical and mental effects of anxiety so you can better recognize and manage your reactions. There are also various interventions available, such as anxiety management training, cognitive restructuring, and self-controlled desensitization, which have been found to be effective in treating Generalized Anxiety Disorder (GAD). These interventions can be delivered through various modes, including internet-delivered Cognitive Behavioral Therapy (iCBT). If you are struggling with anxiety, it may also be helpful to seek support from a mental health professional. Remember, everyone's journey with anxiety is unique, so it is important to find what works best for you.\n",
      "What do I do?What did I just ask?How do I deal with my anxiety?\n",
      "\n",
      "Paranoia is a mental health disorder that involves intense and irrational mistrust or suspicion of others. It can also involve feelings of being watched, followed, or plotted against. It is important to seek professional help if you are experiencing paranoid thoughts, as it can greatly impact your daily life and relationships. Treatment for paranoia may include therapy, medication, and coping strategies to manage symptoms. It is also important to take care of your overall mental health and well-being by practicing self-care and seeking support from loved ones.\n",
      "What do I do?What did I just ask?How do I deal with my anxiety?I have paranoia\n",
      "There are several options for managing anxiety and other mental health issues. One option is to join a self-help or support group, where you can share your experiences and learn from others. Stress management techniques, meditation, and visualization can also be helpful in calming anxiety. Additionally, service to others can provide a distraction from self-absorption and improve overall well-being. Another option is to seek therapy or medication, which can be determined by a doctor and tailored to your specific needs and symptoms. If one form of treatment does not work, there are other options available. It is important to find what works best for you and to have support from others. Remember to also take care of yourself and prioritize your mental health.\n",
      "What do I do?What did I just ask?How do I deal with my anxiety?I have paranoiaHow do I deal with my issues?\n",
      "\n",
      "As a chatbot specializing in mental health, I am here to help you with your question about dealing with your issues. It's great that you are seeking support and guidance in managing your mental health. There are various ways to deal with issues related to mental health, including therapy, medication, and self-help strategies. Let's explore some options that may be helpful for you.\n",
      "\n",
      "Firstly, it's important to acknowledge your issues and understand that it's okay to seek help. Many people find that joining a support group or participating in online communities can be beneficial in managing their mental health. Sharing your experiences and strategies with others can provide a sense of understanding and support.\n",
      "\n",
      "Additionally, stress management techniques and meditation practices can help calm the mind and enhance the effects of therapy. These can include deep breathing, mindfulness, and visualization techniques. It's also important to engage in activities that bring you joy and distract from any negative thoughts or feelings.\n",
      "\n",
      "Furthermore, motivational interviewing (MI) is a counseling approach that can help address behaviors that are not aligned with your values. It involves expressing empathy, exploring the reasons behind your behaviors, and encouraging self-efficacy. This approach can be used in therapy or self-reflection to help you identify and address any underlying issues.\n",
      "\n",
      "Lastly, it's important\n",
      "What do I do?What did I just ask?How do I deal with my anxiety?I have paranoiaHow do I deal with my issues?\n",
      " I am here to help you. It seems like you have been struggling with anxiety and paranoia. It's important to take care of your mental health, especially in the tech industry where there can be added stress and pressure. Some ways to deal with anxiety and other mental health issues include seeking support from a therapist or support group, practicing self-care and relaxation techniques, and opening up to trusted friends or family members about your struggles. Remember, it's okay to ask for help and to take breaks when needed. You are not alone and there are resources available to support you.\n",
      "What do I do?What did I just ask?How do I deal with my anxiety?I have paranoiaHow do I deal with my issues?\n",
      " Thank you for reaching out for help. It takes a lot of courage to acknowledge your struggles and seek support. It sounds like you have been dealing with anxiety and paranoia, and you are looking for ways to cope with these issues. One effective method is to join a self-help or support group where you can share your experiences and learn from others who are going through similar challenges. Another helpful technique is Motivational Interviewing (MI), which involves building empathy, highlighting the disconnect between your behaviors and values, working through resistance, and promoting self-efficacy. I encourage you to explore these options and find the approach that works best for you. Remember, you are not alone and there is always support available. Take care.\n"
     ]
    }
   ],
   "source": [
    "llm_chain = LLMChain(prompt=prompt, llm=llm)\n",
    "question = input(\">> \")\n",
    "past_questions = []\n",
    "\n",
    "while 'quit' not in question:\n",
    "\n",
    "    disorder = \"anxiety\"\n",
    "    db = FAISS.load_local(f'faiss_databases/{disorder}', OpenAIEmbeddings(api_key = api_key))\n",
    "\n",
    "    context = \"\"\n",
    "    for t in db.similarity_search(question):\n",
    "        context += t.page_content + \"\\n\"\n",
    "\n",
    "    memory_content = \"\"\n",
    "    for i in past_questions:\n",
    "        memory_content += i + \"\\n\"\n",
    "\n",
    "    print(memory_content)\n",
    "\n",
    "    ans = llm_chain.invoke({'disorder': disorder, 'disorder_context': context, 'survey': \"\", 'question': question, 'past_qs': memory_content})['text']\n",
    "    print(ans)\n",
    "\n",
    "    past_questions.append(question)\n",
    "    if (len(past_questions) > 5): past_questions.pop(0)\n",
    "\n",
    "    question = input(\">> \")"
   ]
  }
 ],
 "metadata": {
  "kernelspec": {
   "display_name": "Python 3",
   "language": "python",
   "name": "python3"
  },
  "language_info": {
   "codemirror_mode": {
    "name": "ipython",
    "version": 3
   },
   "file_extension": ".py",
   "mimetype": "text/x-python",
   "name": "python",
   "nbconvert_exporter": "python",
   "pygments_lexer": "ipython3",
   "version": "3.9.13"
  }
 },
 "nbformat": 4,
 "nbformat_minor": 2
}
