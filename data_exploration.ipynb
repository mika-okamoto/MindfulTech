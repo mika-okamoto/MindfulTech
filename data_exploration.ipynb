{
 "cells": [
  {
   "cell_type": "code",
   "execution_count": 2,
   "metadata": {
    "pycharm": {
     "name": "#%%\n"
    }
   },
   "outputs": [
    {
     "name": "stderr",
     "output_type": "stream",
     "text": [
      "C:\\Users\\ansel\\AppData\\Local\\Temp\\ipykernel_24200\\3554635743.py:1: DeprecationWarning: \n",
      "Pyarrow will become a required dependency of pandas in the next major release of pandas (pandas 3.0),\n",
      "(to allow more performant data types, such as the Arrow string type, and better interoperability with other libraries)\n",
      "but was not found to be installed on your system.\n",
      "If this would cause problems for you,\n",
      "please provide us feedback at https://github.com/pandas-dev/pandas/issues/54466\n",
      "        \n",
      "  import pandas as pd\n"
     ]
    }
   ],
   "source": [
    "import pandas as pd\n",
    "import seaborn as sns\n",
    "import matplotlib.pyplot as plt\n",
    "import numpy as np"
   ]
  },
  {
   "cell_type": "code",
   "execution_count": 16,
   "metadata": {
    "pycharm": {
     "name": "#%%\n"
    }
   },
   "outputs": [
    {
     "name": "stdout",
     "output_type": "stream",
     "text": [
      "1433\n",
      "1131\n",
      "1146\n"
     ]
    }
   ],
   "source": [
    "df = pd.read_csv('mental-heath-in-tech-2016_20161114.csv')\n",
    "df.head()\n"
   ]
  },
  {
   "cell_type": "code",
   "execution_count": 44,
   "outputs": [
    {
     "name": "stdout",
     "output_type": "stream",
     "text": [
      "1131\n",
      "1131\n",
      "What is your gender?\n",
      "0.0    876\n",
      "2.0    237\n",
      "1.0     15\n",
      "Name: count, dtype: int64\n"
     ]
    }
   ],
   "source": [
    "\n",
    "print(len(df))\n",
    "df = df[df[\"Are you self-employed?\"] != 1]\n",
    "df = df[(df[\"Are you self-employed?\"] != 1) & (df[\"Is your primary role within your company related to tech/IT?\"].isin(['', 1, np.nan]))]\n",
    "print(len(filtered_df))\n",
    "replace_dict = {\"nonbinary\":1,'female': 2, 'Female': 2, 'F':2, 'f':0,'M': 0, 'm':0, 'Male':0, 'male':0,\"woman\":2,\"cis male\":0, \"Cis male\":0, \"dude\":0}\n",
    "df[\"What is your gender?\"] = df[\"What is your gender?\"].replace(replace_dict, regex=True)\n",
    "df[\"What is your gender?\"] = df[\"What is your gender?\"].replace(to_replace=r'[^0-2]', value=1, regex=True)\n",
    "print(df['What is your gender?'].value_counts())"
   ],
   "metadata": {
    "collapsed": false,
    "pycharm": {
     "name": "#%%\n"
    }
   }
  },
  {
   "cell_type": "code",
   "execution_count": null,
   "outputs": [],
   "source": [],
   "metadata": {
    "collapsed": false,
    "pycharm": {
     "name": "#%%\n"
    }
   }
  }
 ],
 "metadata": {
  "kernelspec": {
   "display_name": "Python 3",
   "language": "python",
   "name": "python3"
  },
  "language_info": {
   "codemirror_mode": {
    "name": "ipython",
    "version": 3
   },
   "file_extension": ".py",
   "mimetype": "text/x-python",
   "name": "python",
   "nbconvert_exporter": "python",
   "pygments_lexer": "ipython3",
   "version": "3.9.13"
  }
 },
 "nbformat": 4,
 "nbformat_minor": 2
}